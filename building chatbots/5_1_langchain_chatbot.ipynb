{
 "cells": [
  {
   "cell_type": "markdown",
   "id": "f45945d4-3634-4d6e-8858-746702e8654c",
   "metadata": {},
   "source": [
    "**5.1. Building a chatbot with LangChain**"
   ]
  },
  {
   "cell_type": "code",
   "execution_count": 2,
   "id": "810838cd-3c72-432a-8186-2f9951823d79",
   "metadata": {},
   "outputs": [
    {
     "name": "stderr",
     "output_type": "stream",
     "text": [
      "\n",
      "[notice] A new release of pip is available: 25.1.1 -> 25.2\n",
      "[notice] To update, run: python.exe -m pip install --upgrade pip\n"
     ]
    }
   ],
   "source": [
    "!pip install -q -U langchain-community langchain-groq"
   ]
  },
  {
   "cell_type": "code",
   "execution_count": 3,
   "id": "cb91d61b-e0f3-4307-9d96-81d56fc2b597",
   "metadata": {},
   "outputs": [],
   "source": [
    "import os\n",
    "from langchain_core.prompts import ChatPromptTemplate\n",
    "from langchain_core.output_parsers import StrOutputParser\n",
    "from langchain_groq import ChatGroq"
   ]
  },
  {
   "cell_type": "code",
   "execution_count": 4,
   "id": "18518f2a-794c-44f7-b4c3-3173b9172676",
   "metadata": {},
   "outputs": [],
   "source": [
    "os.environ[\"GROQ_API_KEY\"] = \"your_groq_api_key\""
   ]
  },
  {
   "cell_type": "code",
   "execution_count": 5,
   "id": "0e4b0342-a322-4682-bfb1-9444b0509f96",
   "metadata": {},
   "outputs": [],
   "source": [
    "llm = ChatGroq(\n",
    "    model=\"llama-3.3-70b-versatile\",\n",
    "    temperature=0.1,\n",
    ")"
   ]
  },
  {
   "cell_type": "code",
   "execution_count": 6,
   "id": "a6e79376-c496-4587-8b96-af07c1fe8e0e",
   "metadata": {},
   "outputs": [],
   "source": [
    "parser = StrOutputParser()"
   ]
  },
  {
   "cell_type": "markdown",
   "id": "973f0443-616c-4af2-bcca-8a812653c3eb",
   "metadata": {},
   "source": [
    "chat_history: list of messages\n",
    "\n",
    "message -> role & content\n",
    "\n",
    "role: 1. system; 1. user; 2. assistant;\n",
    "\n"
   ]
  },
  {
   "cell_type": "code",
   "execution_count": 8,
   "id": "6fea0ffb-1117-4939-9558-62be11cb82a2",
   "metadata": {},
   "outputs": [],
   "source": [
    "def chat():\n",
    "    chat_history = [\n",
    "        (\"system\", \"You are a helpful chatbot. Be concise and accurate.\")\n",
    "    ]\n",
    "\n",
    "    print(\"Langchain Chatbot. Type 'exit' to quit\\n\")\n",
    "\n",
    "    while True:\n",
    "        user_input = input(\"You: \").strip()\n",
    "\n",
    "        if user_input.lower() == \"exit\":\n",
    "            break\n",
    "\n",
    "        # add user message\n",
    "        chat_history.append((\"user\", user_input))\n",
    "\n",
    "        # build prompt dynamically\n",
    "        prompt = ChatPromptTemplate.from_messages(chat_history)\n",
    "\n",
    "        chain = prompt | llm | parser\n",
    "\n",
    "        # get response for user query\n",
    "        response = chain.invoke({})\n",
    "\n",
    "        # show & save the assistant response\n",
    "        print(f\"Bot: {response}\\n\")\n",
    "\n",
    "        chat_history.append((\"assistant\", response))        \n",
    "\n",
    "        print(\"-\"*80)\n",
    "\n",
    "       "
   ]
  },
  {
   "cell_type": "code",
   "execution_count": 10,
   "id": "dcc25dad-95c7-431c-b2b5-3bd47e1db075",
   "metadata": {},
   "outputs": [
    {
     "name": "stdout",
     "output_type": "stream",
     "text": [
      "Langchain Chatbot. Type 'exit' to quit\n",
      "\n"
     ]
    },
    {
     "name": "stdout",
     "output_type": "stream",
     "text": [
      "You:  What is Machine Learning?\n"
     ]
    },
    {
     "name": "stdout",
     "output_type": "stream",
     "text": [
      "Bot: Machine Learning (ML) is a subset of Artificial Intelligence (AI) that enables systems to automatically learn and improve from data without being explicitly programmed. It involves training algorithms to make predictions, classify data, or make decisions based on patterns and relationships in the data.\n",
      "\n",
      "--------------------------------------------------------------------------------\n"
     ]
    },
    {
     "name": "stdout",
     "output_type": "stream",
     "text": [
      "You:  Explain in detail.\n"
     ]
    },
    {
     "name": "stdout",
     "output_type": "stream",
     "text": [
      "Bot: **Introduction to Machine Learning**\n",
      "\n",
      "Machine Learning (ML) is a field of study that focuses on the development of algorithms and statistical models that enable machines to perform tasks without being explicitly programmed. It is a subset of Artificial Intelligence (AI) that involves training systems to learn from data, identify patterns, and make decisions or predictions based on that data.\n",
      "\n",
      "**Key Concepts**\n",
      "\n",
      "1. **Data**: Machine Learning relies heavily on data, which can be in the form of images, text, audio, or any other type of information. The quality and quantity of the data play a crucial role in the performance of the ML model.\n",
      "2. **Algorithms**: ML algorithms are the set of instructions that are used to train the model. These algorithms can be divided into two main categories: supervised and unsupervised learning.\n",
      "3. **Model**: The ML model is the result of training the algorithm on the data. The model can be used to make predictions, classify data, or make decisions.\n",
      "4. **Training**: The process of training an ML model involves feeding the algorithm with data and adjusting the model's parameters to minimize the error between the predicted output and the actual output.\n",
      "\n",
      "**Types of Machine Learning**\n",
      "\n",
      "1. **Supervised Learning**: In supervised learning, the algorithm is trained on labeled data, where the correct output is already known. The goal is to learn a mapping between input data and the corresponding output labels. Examples of supervised learning include image classification, sentiment analysis, and regression analysis.\n",
      "2. **Unsupervised Learning**: In unsupervised learning, the algorithm is trained on unlabeled data, and the goal is to discover patterns or relationships in the data. Examples of unsupervised learning include clustering, dimensionality reduction, and anomaly detection.\n",
      "3. **Semi-Supervised Learning**: In semi-supervised learning, the algorithm is trained on a combination of labeled and unlabeled data. This approach is useful when labeled data is scarce or expensive to obtain.\n",
      "4. **Reinforcement Learning**: In reinforcement learning, the algorithm learns by interacting with an environment and receiving rewards or penalties for its actions. The goal is to learn a policy that maximizes the cumulative reward over time.\n",
      "\n",
      "**Machine Learning Workflow**\n",
      "\n",
      "1. **Data Preprocessing**: The first step in the ML workflow is to collect and preprocess the data. This includes cleaning, transforming, and feature engineering.\n",
      "2. **Model Selection**: The next step is to select a suitable ML algorithm and model architecture.\n",
      "3. **Training**: The model is then trained on the preprocessed data, and the parameters are adjusted to minimize the error.\n",
      "4. **Evaluation**: The trained model is evaluated on a separate test dataset to estimate its performance.\n",
      "5. **Deployment**: The final step is to deploy the model in a production environment, where it can be used to make predictions or decisions.\n",
      "\n",
      "**Applications of Machine Learning**\n",
      "\n",
      "1. **Image and Speech Recognition**: ML is widely used in image and speech recognition applications, such as self-driving cars, virtual assistants, and facial recognition systems.\n",
      "2. **Natural Language Processing**: ML is used in NLP applications, such as language translation, sentiment analysis, and text summarization.\n",
      "3. **Predictive Maintenance**: ML is used in predictive maintenance to predict equipment failures and schedule maintenance.\n",
      "4. **Recommendation Systems**: ML is used in recommendation systems to suggest products or services based on user behavior and preferences.\n",
      "5. **Healthcare**: ML is used in healthcare to diagnose diseases, predict patient outcomes, and develop personalized treatment plans.\n",
      "\n",
      "**Challenges and Limitations**\n",
      "\n",
      "1. **Data Quality**: ML models are only as good as the data they are trained on. Poor data quality can lead to biased or inaccurate models.\n",
      "2. **Overfitting**: ML models can suffer from overfitting, where the model is too complex and fits the noise in the training data.\n",
      "3. **Interpretability**: ML models can be difficult to interpret, making it challenging to understand why a particular decision was made.\n",
      "4. **Explainability**: ML models can be difficult to explain, making it challenging to understand how the model works.\n",
      "\n",
      "**Conclusion**\n",
      "\n",
      "Machine Learning is a powerful technology that has the potential to transform industries and revolutionize the way we live and work. By understanding the key concepts, types, and applications of ML, we can unlock its full potential and create innovative solutions to complex problems. However, ML also presents challenges and limitations, such as data quality, overfitting, interpretability, and explainability, which must be addressed to ensure the development of reliable and trustworthy ML models.\n",
      "\n",
      "--------------------------------------------------------------------------------\n"
     ]
    },
    {
     "name": "stdout",
     "output_type": "stream",
     "text": [
      "You:  What is Deep Learning?\n"
     ]
    },
    {
     "name": "stdout",
     "output_type": "stream",
     "text": [
      "Bot: **Introduction to Deep Learning**\n",
      "\n",
      "Deep Learning (DL) is a subset of Machine Learning (ML) that involves the use of artificial neural networks to analyze and interpret data. These neural networks are designed to mimic the structure and function of the human brain, with multiple layers of interconnected nodes (neurons) that process and transform inputs into meaningful representations.\n",
      "\n",
      "**Key Concepts**\n",
      "\n",
      "1. **Artificial Neural Networks**: DL models are based on artificial neural networks, which are composed of multiple layers of nodes (neurons) that process and transform inputs.\n",
      "2. **Layers**: DL models typically consist of multiple layers, including:\n",
      "\t* **Input Layer**: receives the input data\n",
      "\t* **Hidden Layers**: perform complex transformations on the input data\n",
      "\t* **Output Layer**: generates the final output\n",
      "3. **Activation Functions**: each node in the network applies an activation function to the input, introducing non-linearity and enabling the model to learn complex relationships.\n",
      "4. **Backpropagation**: DL models use backpropagation to optimize the weights and biases of the nodes, minimizing the error between the predicted output and the actual output.\n",
      "\n",
      "**Types of Deep Learning Models**\n",
      "\n",
      "1. **Convolutional Neural Networks (CNNs)**: designed for image and video processing, CNNs use convolutional and pooling layers to extract features.\n",
      "2. **Recurrent Neural Networks (RNNs)**: designed for sequential data, such as text, speech, or time series data, RNNs use recurrent connections to capture temporal relationships.\n",
      "3. **Long Short-Term Memory (LSTM) Networks**: a type of RNN that uses memory cells to learn long-term dependencies.\n",
      "4. **Autoencoders**: designed for dimensionality reduction and generative modeling, autoencoders use a bottleneck layer to learn compact representations.\n",
      "5. **Generative Adversarial Networks (GANs)**: designed for generative modeling, GANs use a generator and discriminator network to learn a distribution over the data.\n",
      "\n",
      "**Applications of Deep Learning**\n",
      "\n",
      "1. **Computer Vision**: DL is widely used in computer vision applications, such as image classification, object detection, segmentation, and generation.\n",
      "2. **Natural Language Processing**: DL is used in NLP applications, such as language translation, sentiment analysis, and text summarization.\n",
      "3. **Speech Recognition**: DL is used in speech recognition systems to recognize spoken words and phrases.\n",
      "4. **Robotics**: DL is used in robotics to enable robots to learn from experience and adapt to new situations.\n",
      "5. **Healthcare**: DL is used in healthcare to analyze medical images, diagnose diseases, and develop personalized treatment plans.\n",
      "\n",
      "**Advantages of Deep Learning**\n",
      "\n",
      "1. **Automatic Feature Learning**: DL models can learn features from raw data, eliminating the need for manual feature engineering.\n",
      "2. **Improved Accuracy**: DL models can achieve state-of-the-art performance on a wide range of tasks.\n",
      "3. **Flexibility**: DL models can be applied to a variety of domains and tasks.\n",
      "\n",
      "**Challenges and Limitations**\n",
      "\n",
      "1. **Computational Requirements**: DL models require significant computational resources and memory.\n",
      "2. **Training Time**: DL models can take a long time to train, especially on large datasets.\n",
      "3. **Overfitting**: DL models can suffer from overfitting, especially when the number of parameters is large.\n",
      "4. **Interpretability**: DL models can be difficult to interpret, making it challenging to understand why a particular decision was made.\n",
      "\n",
      "**Conclusion**\n",
      "\n",
      "Deep Learning is a powerful technology that has revolutionized the field of Machine Learning. By using artificial neural networks to analyze and interpret data, DL models can learn complex patterns and relationships, achieving state-of-the-art performance on a wide range of tasks. However, DL also presents challenges and limitations, such as computational requirements, training time, overfitting, and interpretability, which must be addressed to ensure the development of reliable and trustworthy DL models.\n",
      "\n",
      "--------------------------------------------------------------------------------\n"
     ]
    },
    {
     "name": "stdout",
     "output_type": "stream",
     "text": [
      "You:  Explain in short\n"
     ]
    },
    {
     "name": "stdout",
     "output_type": "stream",
     "text": [
      "Bot: **Deep Learning**\n",
      "\n",
      "Deep Learning (DL) is a subset of Machine Learning that uses artificial neural networks to analyze and interpret data. It involves multiple layers of interconnected nodes (neurons) that process and transform inputs into meaningful representations.\n",
      "\n",
      "**Key Points**\n",
      "\n",
      "* Uses artificial neural networks\n",
      "* Multiple layers of interconnected nodes\n",
      "* Can learn complex patterns and relationships\n",
      "* Applications: computer vision, NLP, speech recognition, robotics, healthcare\n",
      "\n",
      "**Advantages**\n",
      "\n",
      "* Automatic feature learning\n",
      "* Improved accuracy\n",
      "* Flexibility\n",
      "\n",
      "**Challenges**\n",
      "\n",
      "* Computational requirements\n",
      "* Training time\n",
      "* Overfitting\n",
      "* Interpretability\n",
      "\n",
      "--------------------------------------------------------------------------------\n"
     ]
    },
    {
     "name": "stdout",
     "output_type": "stream",
     "text": [
      "You:  exit\n"
     ]
    }
   ],
   "source": [
    "chat()"
   ]
  },
  {
   "cell_type": "code",
   "execution_count": 12,
   "id": "6815015b-b6b6-4599-9393-0555ea2c47f6",
   "metadata": {},
   "outputs": [
    {
     "name": "stdout",
     "output_type": "stream",
     "text": [
      "Langchain Chatbot. Type 'exit' to quit\n",
      "\n"
     ]
    },
    {
     "name": "stdout",
     "output_type": "stream",
     "text": [
      "You:  exit\n"
     ]
    }
   ],
   "source": [
    "chat()"
   ]
  },
  {
   "cell_type": "code",
   "execution_count": null,
   "id": "3d4494b2-5a86-416f-890b-a371bc89f66f",
   "metadata": {},
   "outputs": [],
   "source": []
  }
 ],
 "metadata": {
  "kernelspec": {
   "display_name": "Python 3",
   "language": "python",
   "name": "python3"
  },
  "language_info": {
   "codemirror_mode": {
    "name": "ipython",
    "version": 3
   },
   "file_extension": ".py",
   "mimetype": "text/x-python",
   "name": "python",
   "nbconvert_exporter": "python",
   "pygments_lexer": "ipython3",
   "version": "3.13.5"
  }
 },
 "nbformat": 4,
 "nbformat_minor": 5
}
